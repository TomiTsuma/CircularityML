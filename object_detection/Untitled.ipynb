{
 "cells": [
  {
   "cell_type": "code",
   "execution_count": 1,
   "id": "e713e9e1",
   "metadata": {},
   "outputs": [],
   "source": [
    "import tensorflow as tf\n",
    "import pickle\n"
   ]
  },
  {
   "cell_type": "code",
   "execution_count": null,
   "id": "9ec09e80",
   "metadata": {},
   "outputs": [],
   "source": [
    "path='C:/Users/Paylend/Documents/Circularity/object_detection/model/model/model.tf'"
   ]
  },
  {
   "cell_type": "code",
   "execution_count": 3,
   "id": "72dff1b7",
   "metadata": {
    "scrolled": true
   },
   "outputs": [
    {
     "ename": "RuntimeError",
     "evalue": "MetaGraphDef associated with tags {'serve'} could not be found in SavedModel, with available tags '[set()]'. To inspect available tag-sets in the SavedModel, please use the SavedModel CLI: `saved_model_cli`.",
     "output_type": "error",
     "traceback": [
      "\u001b[1;31m---------------------------------------------------------------------------\u001b[0m",
      "\u001b[1;31mRuntimeError\u001b[0m                              Traceback (most recent call last)",
      "Input \u001b[1;32mIn [3]\u001b[0m, in \u001b[0;36m<module>\u001b[1;34m\u001b[0m\n\u001b[1;32m----> 1\u001b[0m converter \u001b[38;5;241m=\u001b[39m \u001b[43mtf\u001b[49m\u001b[38;5;241;43m.\u001b[39;49m\u001b[43mlite\u001b[49m\u001b[38;5;241;43m.\u001b[39;49m\u001b[43mTFLiteConverter\u001b[49m\u001b[38;5;241;43m.\u001b[39;49m\u001b[43mfrom_saved_model\u001b[49m\u001b[43m(\u001b[49m\u001b[43mpath2\u001b[49m\u001b[43m)\u001b[49m\n",
      "File \u001b[1;32m~\\AppData\\Roaming\\Python\\Python39\\site-packages\\tensorflow\\lite\\python\\lite.py:1648\u001b[0m, in \u001b[0;36mTFLiteConverterV2.from_saved_model\u001b[1;34m(cls, saved_model_dir, signature_keys, tags)\u001b[0m\n\u001b[0;32m   1645\u001b[0m   tags \u001b[38;5;241m=\u001b[39m \u001b[38;5;28mset\u001b[39m([_tag_constants\u001b[38;5;241m.\u001b[39mSERVING])\n\u001b[0;32m   1647\u001b[0m \u001b[38;5;28;01mwith\u001b[39;00m context\u001b[38;5;241m.\u001b[39meager_mode():\n\u001b[1;32m-> 1648\u001b[0m   saved_model \u001b[38;5;241m=\u001b[39m \u001b[43m_load\u001b[49m\u001b[43m(\u001b[49m\u001b[43msaved_model_dir\u001b[49m\u001b[43m,\u001b[49m\u001b[43m \u001b[49m\u001b[43mtags\u001b[49m\u001b[43m)\u001b[49m\n\u001b[0;32m   1649\u001b[0m \u001b[38;5;28;01mif\u001b[39;00m \u001b[38;5;129;01mnot\u001b[39;00m signature_keys:\n\u001b[0;32m   1650\u001b[0m   signature_keys \u001b[38;5;241m=\u001b[39m saved_model\u001b[38;5;241m.\u001b[39msignatures\n",
      "File \u001b[1;32m~\\AppData\\Roaming\\Python\\Python39\\site-packages\\tensorflow\\python\\saved_model\\load.py:936\u001b[0m, in \u001b[0;36mload\u001b[1;34m(export_dir, tags, options)\u001b[0m\n\u001b[0;32m    845\u001b[0m \u001b[38;5;129m@tf_export\u001b[39m(\u001b[38;5;124m\"\u001b[39m\u001b[38;5;124msaved_model.load\u001b[39m\u001b[38;5;124m\"\u001b[39m, v1\u001b[38;5;241m=\u001b[39m[\u001b[38;5;124m\"\u001b[39m\u001b[38;5;124msaved_model.load_v2\u001b[39m\u001b[38;5;124m\"\u001b[39m])\n\u001b[0;32m    846\u001b[0m \u001b[38;5;28;01mdef\u001b[39;00m \u001b[38;5;21mload\u001b[39m(export_dir, tags\u001b[38;5;241m=\u001b[39m\u001b[38;5;28;01mNone\u001b[39;00m, options\u001b[38;5;241m=\u001b[39m\u001b[38;5;28;01mNone\u001b[39;00m):\n\u001b[0;32m    847\u001b[0m   \u001b[38;5;124;03m\"\"\"Load a SavedModel from `export_dir`.\u001b[39;00m\n\u001b[0;32m    848\u001b[0m \n\u001b[0;32m    849\u001b[0m \u001b[38;5;124;03m  Signatures associated with the SavedModel are available as functions:\u001b[39;00m\n\u001b[1;32m   (...)\u001b[0m\n\u001b[0;32m    934\u001b[0m \u001b[38;5;124;03m    ValueError: If `tags` don't match a MetaGraph in the SavedModel.\u001b[39;00m\n\u001b[0;32m    935\u001b[0m \u001b[38;5;124;03m  \"\"\"\u001b[39;00m\n\u001b[1;32m--> 936\u001b[0m   result \u001b[38;5;241m=\u001b[39m \u001b[43mload_internal\u001b[49m\u001b[43m(\u001b[49m\u001b[43mexport_dir\u001b[49m\u001b[43m,\u001b[49m\u001b[43m \u001b[49m\u001b[43mtags\u001b[49m\u001b[43m,\u001b[49m\u001b[43m \u001b[49m\u001b[43moptions\u001b[49m\u001b[43m)\u001b[49m[\u001b[38;5;124m\"\u001b[39m\u001b[38;5;124mroot\u001b[39m\u001b[38;5;124m\"\u001b[39m]\n\u001b[0;32m    937\u001b[0m   \u001b[38;5;28;01mreturn\u001b[39;00m result\n",
      "File \u001b[1;32m~\\AppData\\Roaming\\Python\\Python39\\site-packages\\tensorflow\\python\\saved_model\\load.py:994\u001b[0m, in \u001b[0;36mload_internal\u001b[1;34m(export_dir, tags, options, loader_cls, filters)\u001b[0m\n\u001b[0;32m    991\u001b[0m     \u001b[38;5;28;01mraise\u001b[39;00m \u001b[38;5;167;01mValueError\u001b[39;00m(\u001b[38;5;124m\"\u001b[39m\u001b[38;5;124mSavedModels saved from Tensorflow 1.x or Estimator (any\u001b[39m\u001b[38;5;124m\"\u001b[39m\n\u001b[0;32m    992\u001b[0m                      \u001b[38;5;124m\"\u001b[39m\u001b[38;5;124m version) cannot be loaded with node filters.\u001b[39m\u001b[38;5;124m\"\u001b[39m)\n\u001b[0;32m    993\u001b[0m   \u001b[38;5;28;01mwith\u001b[39;00m ops\u001b[38;5;241m.\u001b[39minit_scope():\n\u001b[1;32m--> 994\u001b[0m     root \u001b[38;5;241m=\u001b[39m \u001b[43mload_v1_in_v2\u001b[49m\u001b[38;5;241;43m.\u001b[39;49m\u001b[43mload\u001b[49m\u001b[43m(\u001b[49m\u001b[43mexport_dir\u001b[49m\u001b[43m,\u001b[49m\u001b[43m \u001b[49m\u001b[43mtags\u001b[49m\u001b[43m)\u001b[49m\n\u001b[0;32m    995\u001b[0m     root\u001b[38;5;241m.\u001b[39mgraph_debug_info \u001b[38;5;241m=\u001b[39m debug_info\n\u001b[0;32m    997\u001b[0m \u001b[38;5;28;01mif\u001b[39;00m filters:\n",
      "File \u001b[1;32m~\\AppData\\Roaming\\Python\\Python39\\site-packages\\tensorflow\\python\\saved_model\\load_v1_in_v2.py:282\u001b[0m, in \u001b[0;36mload\u001b[1;34m(export_dir, tags)\u001b[0m\n\u001b[0;32m    280\u001b[0m metrics\u001b[38;5;241m.\u001b[39mIncrementReadApi(_LOAD_V1_V2_LABEL)\n\u001b[0;32m    281\u001b[0m loader \u001b[38;5;241m=\u001b[39m _EagerSavedModelLoader(export_dir)\n\u001b[1;32m--> 282\u001b[0m result \u001b[38;5;241m=\u001b[39m \u001b[43mloader\u001b[49m\u001b[38;5;241;43m.\u001b[39;49m\u001b[43mload\u001b[49m\u001b[43m(\u001b[49m\u001b[43mtags\u001b[49m\u001b[38;5;241;43m=\u001b[39;49m\u001b[43mtags\u001b[49m\u001b[43m)\u001b[49m\n\u001b[0;32m    283\u001b[0m metrics\u001b[38;5;241m.\u001b[39mIncrementRead(write_version\u001b[38;5;241m=\u001b[39m\u001b[38;5;124m\"\u001b[39m\u001b[38;5;124m1\u001b[39m\u001b[38;5;124m\"\u001b[39m)\n\u001b[0;32m    284\u001b[0m \u001b[38;5;28;01mreturn\u001b[39;00m result\n",
      "File \u001b[1;32m~\\AppData\\Roaming\\Python\\Python39\\site-packages\\tensorflow\\python\\saved_model\\load_v1_in_v2.py:207\u001b[0m, in \u001b[0;36m_EagerSavedModelLoader.load\u001b[1;34m(self, tags)\u001b[0m\n\u001b[0;32m    205\u001b[0m \u001b[38;5;28;01mdef\u001b[39;00m \u001b[38;5;21mload\u001b[39m(\u001b[38;5;28mself\u001b[39m, tags):\n\u001b[0;32m    206\u001b[0m   \u001b[38;5;124;03m\"\"\"Creates an object from the MetaGraph identified by `tags`.\"\"\"\u001b[39;00m\n\u001b[1;32m--> 207\u001b[0m   meta_graph_def \u001b[38;5;241m=\u001b[39m \u001b[38;5;28;43mself\u001b[39;49m\u001b[38;5;241;43m.\u001b[39;49m\u001b[43mget_meta_graph_def_from_tags\u001b[49m\u001b[43m(\u001b[49m\u001b[43mtags\u001b[49m\u001b[43m)\u001b[49m\n\u001b[0;32m    208\u001b[0m   load_shared_name_suffix \u001b[38;5;241m=\u001b[39m \u001b[38;5;124m\"\u001b[39m\u001b[38;5;124m_load_\u001b[39m\u001b[38;5;132;01m{}\u001b[39;00m\u001b[38;5;124m\"\u001b[39m\u001b[38;5;241m.\u001b[39mformat(ops\u001b[38;5;241m.\u001b[39muid())\n\u001b[0;32m    209\u001b[0m   functions \u001b[38;5;241m=\u001b[39m function_deserialization\u001b[38;5;241m.\u001b[39mload_function_def_library(\n\u001b[0;32m    210\u001b[0m       meta_graph_def\u001b[38;5;241m.\u001b[39mgraph_def\u001b[38;5;241m.\u001b[39mlibrary,\n\u001b[0;32m    211\u001b[0m       load_shared_name_suffix\u001b[38;5;241m=\u001b[39mload_shared_name_suffix)\n",
      "File \u001b[1;32m~\\AppData\\Roaming\\Python\\Python39\\site-packages\\tensorflow\\python\\saved_model\\load_v1_in_v2.py:86\u001b[0m, in \u001b[0;36m_EagerSavedModelLoader.get_meta_graph_def_from_tags\u001b[1;34m(self, tags)\u001b[0m\n\u001b[0;32m     79\u001b[0m     \u001b[38;5;28;01mraise\u001b[39;00m \u001b[38;5;167;01mValueError\u001b[39;00m(\n\u001b[0;32m     80\u001b[0m         \u001b[38;5;124m\"\u001b[39m\u001b[38;5;124mImporting a SavedModel with `tf.saved_model.load` requires a \u001b[39m\u001b[38;5;124m\"\u001b[39m\n\u001b[0;32m     81\u001b[0m         \u001b[38;5;124m\"\u001b[39m\u001b[38;5;124m`tags=` argument if there is more than one MetaGraph. Got \u001b[39m\u001b[38;5;124m\"\u001b[39m\n\u001b[0;32m     82\u001b[0m         \u001b[38;5;124mf\u001b[39m\u001b[38;5;124m\"\u001b[39m\u001b[38;5;124m`tags=None`, but there are \u001b[39m\u001b[38;5;132;01m{\u001b[39;00m\u001b[38;5;28mlen\u001b[39m(\u001b[38;5;28mself\u001b[39m\u001b[38;5;241m.\u001b[39m_saved_model\u001b[38;5;241m.\u001b[39mmeta_graphs)\u001b[38;5;132;01m}\u001b[39;00m\u001b[38;5;124m \u001b[39m\u001b[38;5;124m\"\u001b[39m\n\u001b[0;32m     83\u001b[0m         \u001b[38;5;124mf\u001b[39m\u001b[38;5;124m\"\u001b[39m\u001b[38;5;124mMetaGraphs in the SavedModel with tag sets: \u001b[39m\u001b[38;5;132;01m{\u001b[39;00mtag_sets\u001b[38;5;132;01m}\u001b[39;00m\u001b[38;5;124m. Pass a \u001b[39m\u001b[38;5;124m\"\u001b[39m\n\u001b[0;32m     84\u001b[0m         \u001b[38;5;124m\"\u001b[39m\u001b[38;5;124m`tags=` argument to load this SavedModel.\u001b[39m\u001b[38;5;124m\"\u001b[39m)\n\u001b[0;32m     85\u001b[0m   \u001b[38;5;28;01mreturn\u001b[39;00m \u001b[38;5;28mself\u001b[39m\u001b[38;5;241m.\u001b[39m_saved_model\u001b[38;5;241m.\u001b[39mmeta_graphs[\u001b[38;5;241m0\u001b[39m]\n\u001b[1;32m---> 86\u001b[0m \u001b[38;5;28;01mreturn\u001b[39;00m \u001b[38;5;28;43msuper\u001b[39;49m\u001b[43m(\u001b[49m\u001b[43m_EagerSavedModelLoader\u001b[49m\u001b[43m,\u001b[49m\u001b[43m \u001b[49m\u001b[38;5;28;43mself\u001b[39;49m\u001b[43m)\u001b[49m\u001b[38;5;241;43m.\u001b[39;49m\u001b[43mget_meta_graph_def_from_tags\u001b[49m\u001b[43m(\u001b[49m\n\u001b[0;32m     87\u001b[0m \u001b[43m    \u001b[49m\u001b[43mtags\u001b[49m\u001b[43m)\u001b[49m\n",
      "File \u001b[1;32m~\\AppData\\Roaming\\Python\\Python39\\site-packages\\tensorflow\\python\\saved_model\\loader_impl.py:392\u001b[0m, in \u001b[0;36mSavedModelLoader.get_meta_graph_def_from_tags\u001b[1;34m(self, tags)\u001b[0m\n\u001b[0;32m    389\u001b[0m     \u001b[38;5;28;01mbreak\u001b[39;00m\n\u001b[0;32m    391\u001b[0m \u001b[38;5;28;01mif\u001b[39;00m \u001b[38;5;129;01mnot\u001b[39;00m found_match:\n\u001b[1;32m--> 392\u001b[0m   \u001b[38;5;28;01mraise\u001b[39;00m \u001b[38;5;167;01mRuntimeError\u001b[39;00m(\n\u001b[0;32m    393\u001b[0m       \u001b[38;5;124mf\u001b[39m\u001b[38;5;124m\"\u001b[39m\u001b[38;5;124mMetaGraphDef associated with tags \u001b[39m\u001b[38;5;132;01m{\u001b[39;00m\u001b[38;5;28mstr\u001b[39m(tags)\u001b[38;5;241m.\u001b[39mstrip(\u001b[38;5;124m'\u001b[39m\u001b[38;5;124m[]\u001b[39m\u001b[38;5;124m'\u001b[39m)\u001b[38;5;132;01m}\u001b[39;00m\u001b[38;5;124m \u001b[39m\u001b[38;5;124m\"\u001b[39m\n\u001b[0;32m    394\u001b[0m       \u001b[38;5;124m\"\u001b[39m\u001b[38;5;124mcould not be found in SavedModel, with available tags \u001b[39m\u001b[38;5;124m\"\u001b[39m\n\u001b[0;32m    395\u001b[0m       \u001b[38;5;124mf\u001b[39m\u001b[38;5;124m\"\u001b[39m\u001b[38;5;124m'\u001b[39m\u001b[38;5;132;01m{\u001b[39;00mavailable_tags\u001b[38;5;132;01m}\u001b[39;00m\u001b[38;5;124m'\u001b[39m\u001b[38;5;124m. To inspect available tag-sets in\u001b[39m\u001b[38;5;124m\"\u001b[39m\n\u001b[0;32m    396\u001b[0m       \u001b[38;5;124m\"\u001b[39m\u001b[38;5;124m the SavedModel, please use the SavedModel CLI: `saved_model_cli`.\u001b[39m\u001b[38;5;124m\"\u001b[39m)\n\u001b[0;32m    397\u001b[0m \u001b[38;5;28;01mreturn\u001b[39;00m meta_graph_def_to_load\n",
      "\u001b[1;31mRuntimeError\u001b[0m: MetaGraphDef associated with tags {'serve'} could not be found in SavedModel, with available tags '[set()]'. To inspect available tag-sets in the SavedModel, please use the SavedModel CLI: `saved_model_cli`."
     ]
    }
   ],
   "source": [
    "converter = tf.lite.TFLiteConverter.from_saved_model(path2)"
   ]
  },
  {
   "cell_type": "code",
   "execution_count": null,
   "id": "6420c711",
   "metadata": {},
   "outputs": [],
   "source": [
    "tfModel = converter.convert()"
   ]
  },
  {
   "cell_type": "code",
   "execution_count": null,
   "id": "2beb6c47",
   "metadata": {},
   "outputs": [],
   "source": [
    "print(help(tf.lite.TFLiteConverter))"
   ]
  },
  {
   "cell_type": "code",
   "execution_count": null,
   "id": "2d8f7fa9",
   "metadata": {
    "scrolled": true
   },
   "outputs": [],
   "source": [
    "print(tfModel)"
   ]
  },
  {
   "cell_type": "code",
   "execution_count": null,
   "id": "ad968f88",
   "metadata": {},
   "outputs": [],
   "source": [
    "pickle. dump(tfModel, open('tfModel.tflite', 'wb'))"
   ]
  },
  {
   "cell_type": "code",
   "execution_count": null,
   "id": "50abc876",
   "metadata": {},
   "outputs": [],
   "source": [
    "open(path + \".tfLite.tflite\", \"wb\").write(tfModel)"
   ]
  },
  {
   "cell_type": "code",
   "execution_count": 2,
   "id": "e72f431a",
   "metadata": {},
   "outputs": [],
   "source": [
    "path2='C:/Users/Paylend/Documents/Circularity/object_detection/new_graph'"
   ]
  },
  {
   "cell_type": "code",
   "execution_count": null,
   "id": "b4855c14",
   "metadata": {},
   "outputs": [],
   "source": [
    "converter = tf.compat.v1.lite.TFLiteConverter.from_frozen_graph(path2,input_arrays=[\"image_tensor\"],output_arrays=[\"detection_boxes\",\"detection_classes\"])"
   ]
  },
  {
   "cell_type": "code",
   "execution_count": null,
   "id": "d409a31c",
   "metadata": {},
   "outputs": [],
   "source": [
    "import tensorflow as tf\n",
    "gf = tf.compat.v1.GraphDef()   \n",
    "m_file = open('C:/Users/Paylend/Documents/Circularity/object_detection/new_graph/frozen_inference_graph.pb','rb')\n",
    "gf.ParseFromString(m_file.read())"
   ]
  },
  {
   "cell_type": "code",
   "execution_count": null,
   "id": "5072cdc9",
   "metadata": {},
   "outputs": [],
   "source": [
    "for n in gf.node:\n",
    "    print( n.name )\n",
    "    "
   ]
  },
  {
   "cell_type": "code",
   "execution_count": null,
   "id": "d68cc7a7",
   "metadata": {},
   "outputs": [],
   "source": [
    "open(path2 + \".tf2.tflite\", \"wb\").write(tfModel)"
   ]
  },
  {
   "cell_type": "code",
   "execution_count": null,
   "id": "7f70613b",
   "metadata": {},
   "outputs": [],
   "source": [
    "tensor = n.op"
   ]
  },
  {
   "cell_type": "code",
   "execution_count": null,
   "id": "c79daeb3",
   "metadata": {},
   "outputs": [],
   "source": [
    "tfModel2 = converter.convert()"
   ]
  },
  {
   "cell_type": "code",
   "execution_count": null,
   "id": "6a5ed937",
   "metadata": {},
   "outputs": [],
   "source": [
    "input_array =[ input_tensor ]\n",
    "output_array = [ output_tensor ]"
   ]
  },
  {
   "cell_type": "code",
   "execution_count": null,
   "id": "46f452c2",
   "metadata": {},
   "outputs": [],
   "source": []
  }
 ],
 "metadata": {
  "kernelspec": {
   "display_name": "Python 3 (ipykernel)",
   "language": "python",
   "name": "python3"
  },
  "language_info": {
   "codemirror_mode": {
    "name": "ipython",
    "version": 3
   },
   "file_extension": ".py",
   "mimetype": "text/x-python",
   "name": "python",
   "nbconvert_exporter": "python",
   "pygments_lexer": "ipython3",
   "version": "3.9.7"
  }
 },
 "nbformat": 4,
 "nbformat_minor": 5
}
